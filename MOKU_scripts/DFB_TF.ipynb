{
 "cells": [
  {
   "cell_type": "code",
   "execution_count": 2,
   "metadata": {},
   "outputs": [],
   "source": [
    "from moku.instruments import MultiInstrument, DigitalFilterBox, FrequencyResponseAnalyzer\n",
    "import control as ct\n",
    "import matplotlib.pyplot as plt\n",
    "import pandas as pd\n",
    "import numpy as np"
   ]
  },
  {
   "cell_type": "code",
   "execution_count": 3,
   "metadata": {},
   "outputs": [
    {
     "data": {
      "text/plain": [
       "[{'destination': 'Slot1InA', 'source': 'Slot2OutA'},\n",
       " {'destination': 'Slot2InA', 'source': 'Slot1OutA'},\n",
       " {'destination': 'Slot2InB', 'source': 'Slot1OutB'}]"
      ]
     },
     "execution_count": 3,
     "metadata": {},
     "output_type": "execute_result"
    }
   ],
   "source": [
    "#Configure the MOKU to set and measure a PID controller with these parameters\n",
    "MIM = MultiInstrument('192.168.50.97', force_connect=True, platform_id=4) #192.168.50.97 is the IP for Moku Pro 1\n",
    "\n",
    "dfb = MIM.set_instrument(1, DigitalFilterBox)\n",
    "fra = MIM.set_instrument(2, FrequencyResponseAnalyzer)\n",
    "\n",
    "connections = [dict(source=\"Slot1OutA\", destination=\"Slot2InA\"),\n",
    "               dict(source=\"Slot2OutA\", destination=\"Slot1InA\")]\n",
    "\n",
    "MIM.set_connections(connections=connections)"
   ]
  },
  {
   "cell_type": "code",
   "execution_count": 6,
   "metadata": {},
   "outputs": [
    {
     "data": {
      "text/plain": [
       "{'output': True, 'signal': True}"
      ]
     },
     "execution_count": 6,
     "metadata": {},
     "output_type": "execute_result"
    }
   ],
   "source": [
    "# Configure IIR filter 1 of the DFB\n",
    "\n",
    "# The following example array produces an 8th order Direct-form 1\n",
    "# Chebyshev type 2 IIR filter with a normalized stopband frequency\n",
    "# of 0.2 pi rad/sample and a stopband attenuation of 40 dB.\n",
    "filter_coefficients = [\n",
    "    [1.0000000000, 0.6413900006, -1.0290561741, 0.6413900006, -1.6378425857, 0.8915664128],\n",
    "    [1.0000000000, 0.5106751138, -0.7507394931, 0.5106751138, -1.4000444473, 0.6706551819],\n",
    "    [1.0000000000, 0.3173108134, -0.3111365531, 0.3173108134, -1.0873085012, 0.4107935750]]\n",
    "\n",
    "dfb.set_custom_filter(1, \"39.06MHz\", scaling=10,\n",
    "                    coefficients=filter_coefficients)\n",
    "\n",
    "dfb.enable_output(1,True,True)"
   ]
  },
  {
   "cell_type": "code",
   "execution_count": 7,
   "metadata": {},
   "outputs": [
    {
     "data": {
      "text/plain": [
       "{'amplitude': 0.01, 'offset': 0.0}"
      ]
     },
     "execution_count": 7,
     "metadata": {},
     "output_type": "execute_result"
    }
   ],
   "source": [
    "fra.set_sweep(start_frequency=10, stop_frequency=20e6, num_points=256,\n",
    "                averaging_time=1e-3, averaging_cycles=1, settling_cycles=1,\n",
    "                settling_time=1e-3)\n",
    "fra.set_output(1, 0.01)"
   ]
  },
  {
   "cell_type": "code",
   "execution_count": 8,
   "metadata": {},
   "outputs": [
    {
     "name": "stdout",
     "output_type": "stream",
     "text": [
      "{'estimated_sweep_time': 3.9502599500690194}\n"
     ]
    }
   ],
   "source": [
    "delay = fra.start_sweep() \n",
    "print(delay)\n",
    "data = fra.get_data(wait_complete = True)"
   ]
  },
  {
   "cell_type": "code",
   "execution_count": 9,
   "metadata": {},
   "outputs": [],
   "source": [
    "MIM.relinquish_ownership()"
   ]
  },
  {
   "cell_type": "code",
   "execution_count": 10,
   "metadata": {},
   "outputs": [
    {
     "data": {
      "text/html": [
       "<div>\n",
       "<style scoped>\n",
       "    .dataframe tbody tr th:only-of-type {\n",
       "        vertical-align: middle;\n",
       "    }\n",
       "\n",
       "    .dataframe tbody tr th {\n",
       "        vertical-align: top;\n",
       "    }\n",
       "\n",
       "    .dataframe thead th {\n",
       "        text-align: right;\n",
       "    }\n",
       "</style>\n",
       "<table border=\"1\" class=\"dataframe\">\n",
       "  <thead>\n",
       "    <tr style=\"text-align: right;\">\n",
       "      <th></th>\n",
       "      <th>frequency</th>\n",
       "      <th>magnitude</th>\n",
       "      <th>phase</th>\n",
       "    </tr>\n",
       "  </thead>\n",
       "  <tbody>\n",
       "    <tr>\n",
       "      <th>0</th>\n",
       "      <td>9.999992e+00</td>\n",
       "      <td>19.981864</td>\n",
       "      <td>-0.003743</td>\n",
       "    </tr>\n",
       "    <tr>\n",
       "      <th>1</th>\n",
       "      <td>1.058546e+01</td>\n",
       "      <td>19.981864</td>\n",
       "      <td>-0.003963</td>\n",
       "    </tr>\n",
       "    <tr>\n",
       "      <th>2</th>\n",
       "      <td>1.120520e+01</td>\n",
       "      <td>19.981864</td>\n",
       "      <td>-0.004194</td>\n",
       "    </tr>\n",
       "    <tr>\n",
       "      <th>3</th>\n",
       "      <td>1.186122e+01</td>\n",
       "      <td>19.981864</td>\n",
       "      <td>-0.004440</td>\n",
       "    </tr>\n",
       "    <tr>\n",
       "      <th>4</th>\n",
       "      <td>1.255565e+01</td>\n",
       "      <td>19.981864</td>\n",
       "      <td>-0.004700</td>\n",
       "    </tr>\n",
       "    <tr>\n",
       "      <th>...</th>\n",
       "      <td>...</td>\n",
       "      <td>...</td>\n",
       "      <td>...</td>\n",
       "    </tr>\n",
       "    <tr>\n",
       "      <th>251</th>\n",
       "      <td>1.592907e+07</td>\n",
       "      <td>1.242692</td>\n",
       "      <td>175.649024</td>\n",
       "    </tr>\n",
       "    <tr>\n",
       "      <th>252</th>\n",
       "      <td>1.686166e+07</td>\n",
       "      <td>0.537210</td>\n",
       "      <td>171.128094</td>\n",
       "    </tr>\n",
       "    <tr>\n",
       "      <th>253</th>\n",
       "      <td>1.784885e+07</td>\n",
       "      <td>-1.362920</td>\n",
       "      <td>133.015232</td>\n",
       "    </tr>\n",
       "    <tr>\n",
       "      <th>254</th>\n",
       "      <td>1.889383e+07</td>\n",
       "      <td>-5.857387</td>\n",
       "      <td>57.471884</td>\n",
       "    </tr>\n",
       "    <tr>\n",
       "      <th>255</th>\n",
       "      <td>2.000000e+07</td>\n",
       "      <td>-14.925612</td>\n",
       "      <td>-51.988015</td>\n",
       "    </tr>\n",
       "  </tbody>\n",
       "</table>\n",
       "<p>256 rows × 3 columns</p>\n",
       "</div>"
      ],
      "text/plain": [
       "        frequency  magnitude       phase\n",
       "0    9.999992e+00  19.981864   -0.003743\n",
       "1    1.058546e+01  19.981864   -0.003963\n",
       "2    1.120520e+01  19.981864   -0.004194\n",
       "3    1.186122e+01  19.981864   -0.004440\n",
       "4    1.255565e+01  19.981864   -0.004700\n",
       "..            ...        ...         ...\n",
       "251  1.592907e+07   1.242692  175.649024\n",
       "252  1.686166e+07   0.537210  171.128094\n",
       "253  1.784885e+07  -1.362920  133.015232\n",
       "254  1.889383e+07  -5.857387   57.471884\n",
       "255  2.000000e+07 -14.925612  -51.988015\n",
       "\n",
       "[256 rows x 3 columns]"
      ]
     },
     "execution_count": 10,
     "metadata": {},
     "output_type": "execute_result"
    }
   ],
   "source": [
    "df = pd.DataFrame(data = data['ch1'])\n",
    "#df = df.drop(columns = 'phase')\n",
    "\n",
    "df"
   ]
  },
  {
   "cell_type": "code",
   "execution_count": 11,
   "metadata": {},
   "outputs": [
    {
     "data": {
      "image/png": "[encoded data removed]",
      "text/plain": [
       "<Figure size 640x480 with 1 Axes>"
      ]
     },
     "metadata": {},
     "output_type": "display_data"
    }
   ],
   "source": [
    "plt.semilogx(df['frequency'],df['magnitude'])\n",
    "plt.legend(['measured'])\n",
    "plt.xlabel('Frequency (Hz)')\n",
    "plt.ylabel('Gain (dB)')\n",
    "plt.show()"
   ]
  }
 ],
 "metadata": {
  "kernelspec": {
   "display_name": "cds",
   "language": "python",
   "name": "python3"
  },
  "language_info": {
   "codemirror_mode": {
    "name": "ipython",
    "version": 3
   },
   "file_extension": ".py",
   "mimetype": "text/x-python",
   "name": "python",
   "nbconvert_exporter": "python",
   "pygments_lexer": "ipython3",
   "version": "3.10.13"
  }
 },
 "nbformat": 4,
 "nbformat_minor": 2
}
