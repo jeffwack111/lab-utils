{
 "cells": [
  {
   "cell_type": "code",
   "execution_count": 37,
   "metadata": {},
   "outputs": [],
   "source": [
    "from moku.instruments import MultiInstrument, PIDController, FrequencyResponseAnalyzer\n",
    "import control as ct\n",
    "import matplotlib.pyplot as plt\n",
    "import pandas as pd\n",
    "import numpy as np"
   ]
  },
  {
   "cell_type": "code",
   "execution_count": 38,
   "metadata": {},
   "outputs": [],
   "source": [
    "def PISDS_controller(prop_gain_dB,int_crossover,int_saturation_dB,diff_crossover,diff_saturation_dB):\n",
    "    diff_saturation_mag = 10**(diff_saturation_dB/20)\n",
    "    int_saturation_mag = 10**(int_saturation_dB/20)\n",
    "    prop_gain_mag = 10**(prop_gain_dB/20)\n",
    "    pid = ct.tf([1,diff_crossover,int_crossover*diff_crossover],[diff_crossover/prop_gain_mag,0])\n",
    "    sat = ct.zpk([0],[-diff_crossover*diff_saturation_mag/prop_gain_mag,prop_gain_mag*int_crossover/int_saturation_mag],diff_crossover*diff_saturation_mag/prop_gain_mag)\n",
    "    return ct.series(pid,sat)\n"
   ]
  },
  {
   "cell_type": "code",
   "execution_count": 39,
   "metadata": {},
   "outputs": [],
   "source": [
    "#controller parameters:\n",
    "prop_gain_dB=-30\n",
    "int_crossover = 1e2\n",
    "diff_crossover = 5e3\n",
    "int_saturation_dB = 0\n",
    "diff_saturation_dB = 20"
   ]
  },
  {
   "cell_type": "code",
   "execution_count": 40,
   "metadata": {},
   "outputs": [],
   "source": [
    "#create model transfer function\n",
    "model_TF = PISDS_controller(prop_gain_dB,int_crossover,int_saturation_dB,diff_crossover,diff_saturation_dB)"
   ]
  },
  {
   "cell_type": "code",
   "execution_count": 41,
   "metadata": {},
   "outputs": [
    {
     "data": {
      "text/plain": [
       "[{'destination': 'Slot1InA', 'source': 'Slot2OutA'},\n",
       " {'destination': 'Slot2InA', 'source': 'Slot1OutA'},\n",
       " {'destination': 'Slot2InB', 'source': 'Slot1OutB'}]"
      ]
     },
     "execution_count": 41,
     "metadata": {},
     "output_type": "execute_result"
    }
   ],
   "source": [
    "#Configure the MOKU to set and measure a PID controller with these parameters\n",
    "MIM = MultiInstrument('192.168.50.97', force_connect=True, platform_id=4) #192.168.50.97 is the IP for Moku Pro 1\n",
    "\n",
    "pid = MIM.set_instrument(1, PIDController)\n",
    "fra = MIM.set_instrument(2, FrequencyResponseAnalyzer)\n",
    "\n",
    "connections = [dict(source=\"Slot1OutA\", destination=\"Slot2InA\"),\n",
    "               dict(source=\"Slot2OutA\", destination=\"Slot1InA\")]\n",
    "\n",
    "MIM.set_connections(connections=connections)"
   ]
  },
  {
   "cell_type": "code",
   "execution_count": 42,
   "metadata": {},
   "outputs": [
    {
     "data": {
      "text/plain": [
       "{'output': True, 'signal': True}"
      ]
     },
     "execution_count": 42,
     "metadata": {},
     "output_type": "execute_result"
    }
   ],
   "source": [
    "#Set the PID controller\n",
    "pid.set_by_frequency(channel=1, prop_gain=prop_gain_dB,int_crossover = int_crossover,diff_crossover = diff_crossover,int_saturation = int_saturation_dB,diff_saturation = diff_saturation_dB)\n",
    "pid.enable_input(1, True)\n",
    "pid.enable_output(1,True,True)"
   ]
  },
  {
   "cell_type": "code",
   "execution_count": 43,
   "metadata": {},
   "outputs": [
    {
     "data": {
      "text/plain": [
       "{'amplitude': 0.01, 'offset': 0.0}"
      ]
     },
     "execution_count": 43,
     "metadata": {},
     "output_type": "execute_result"
    }
   ],
   "source": [
    "fra.set_sweep(start_frequency=10, stop_frequency=20e6, num_points=256,\n",
    "                averaging_time=1e-3, averaging_cycles=1, settling_cycles=1,\n",
    "                settling_time=1e-3)\n",
    "fra.set_output(1, 0.01)"
   ]
  },
  {
   "cell_type": "code",
   "execution_count": 44,
   "metadata": {},
   "outputs": [
    {
     "name": "stdout",
     "output_type": "stream",
     "text": [
      "{'estimated_sweep_time': 3.9502599500690194}\n"
     ]
    }
   ],
   "source": [
    "delay = fra.start_sweep() \n",
    "print(delay)\n",
    "data = fra.get_data(wait_complete = True)"
   ]
  },
  {
   "cell_type": "code",
   "execution_count": 45,
   "metadata": {},
   "outputs": [],
   "source": [
    "\n",
    "MIM.relinquish_ownership()"
   ]
  },
  {
   "cell_type": "code",
   "execution_count": 53,
   "metadata": {},
   "outputs": [
    {
     "data": {
      "text/html": [
       "<div>\n",
       "<style scoped>\n",
       "    .dataframe tbody tr th:only-of-type {\n",
       "        vertical-align: middle;\n",
       "    }\n",
       "\n",
       "    .dataframe tbody tr th {\n",
       "        vertical-align: top;\n",
       "    }\n",
       "\n",
       "    .dataframe thead th {\n",
       "        text-align: right;\n",
       "    }\n",
       "</style>\n",
       "<table border=\"1\" class=\"dataframe\">\n",
       "  <thead>\n",
       "    <tr style=\"text-align: right;\">\n",
       "      <th></th>\n",
       "      <th>frequency</th>\n",
       "      <th>magnitude</th>\n",
       "      <th>phase</th>\n",
       "    </tr>\n",
       "  </thead>\n",
       "  <tbody>\n",
       "    <tr>\n",
       "      <th>0</th>\n",
       "      <td>9.999992e+00</td>\n",
       "      <td>-10.224918</td>\n",
       "      <td>-49.016360</td>\n",
       "    </tr>\n",
       "    <tr>\n",
       "      <th>1</th>\n",
       "      <td>1.058546e+01</td>\n",
       "      <td>-11.186249</td>\n",
       "      <td>-64.374536</td>\n",
       "    </tr>\n",
       "    <tr>\n",
       "      <th>2</th>\n",
       "      <td>1.120520e+01</td>\n",
       "      <td>-11.626358</td>\n",
       "      <td>-65.193041</td>\n",
       "    </tr>\n",
       "    <tr>\n",
       "      <th>3</th>\n",
       "      <td>1.186122e+01</td>\n",
       "      <td>-12.068259</td>\n",
       "      <td>-65.774015</td>\n",
       "    </tr>\n",
       "    <tr>\n",
       "      <th>4</th>\n",
       "      <td>1.255565e+01</td>\n",
       "      <td>-12.513421</td>\n",
       "      <td>-66.284551</td>\n",
       "    </tr>\n",
       "    <tr>\n",
       "      <th>...</th>\n",
       "      <td>...</td>\n",
       "      <td>...</td>\n",
       "      <td>...</td>\n",
       "    </tr>\n",
       "    <tr>\n",
       "      <th>251</th>\n",
       "      <td>1.592907e+07</td>\n",
       "      <td>20.196660</td>\n",
       "      <td>-109.860830</td>\n",
       "    </tr>\n",
       "    <tr>\n",
       "      <th>252</th>\n",
       "      <td>1.686166e+07</td>\n",
       "      <td>20.156783</td>\n",
       "      <td>157.754912</td>\n",
       "    </tr>\n",
       "    <tr>\n",
       "      <th>253</th>\n",
       "      <td>1.784885e+07</td>\n",
       "      <td>20.112163</td>\n",
       "      <td>59.792971</td>\n",
       "    </tr>\n",
       "    <tr>\n",
       "      <th>254</th>\n",
       "      <td>1.889383e+07</td>\n",
       "      <td>20.067532</td>\n",
       "      <td>-44.111019</td>\n",
       "    </tr>\n",
       "    <tr>\n",
       "      <th>255</th>\n",
       "      <td>2.000000e+07</td>\n",
       "      <td>20.008914</td>\n",
       "      <td>-154.387917</td>\n",
       "    </tr>\n",
       "  </tbody>\n",
       "</table>\n",
       "<p>256 rows × 3 columns</p>\n",
       "</div>"
      ],
      "text/plain": [
       "        frequency  magnitude       phase\n",
       "0    9.999992e+00 -10.224918  -49.016360\n",
       "1    1.058546e+01 -11.186249  -64.374536\n",
       "2    1.120520e+01 -11.626358  -65.193041\n",
       "3    1.186122e+01 -12.068259  -65.774015\n",
       "4    1.255565e+01 -12.513421  -66.284551\n",
       "..            ...        ...         ...\n",
       "251  1.592907e+07  20.196660 -109.860830\n",
       "252  1.686166e+07  20.156783  157.754912\n",
       "253  1.784885e+07  20.112163   59.792971\n",
       "254  1.889383e+07  20.067532  -44.111019\n",
       "255  2.000000e+07  20.008914 -154.387917\n",
       "\n",
       "[256 rows x 3 columns]"
      ]
     },
     "execution_count": 53,
     "metadata": {},
     "output_type": "execute_result"
    }
   ],
   "source": [
    "df = pd.DataFrame(data = data['ch1'])\n",
    "#df = df.drop(columns = 'phase')\n",
    "\n",
    "df"
   ]
  },
  {
   "cell_type": "code",
   "execution_count": 54,
   "metadata": {},
   "outputs": [
    {
     "name": "stdout",
     "output_type": "stream",
     "text": [
      "        frequency  magnitude  model mag       phase\n",
      "0    9.999992e+00 -10.224918 -10.372427  -49.016360\n",
      "1    1.058546e+01 -11.186249 -10.818977  -64.374536\n",
      "2    1.120520e+01 -11.626358 -11.269167  -65.193041\n",
      "3    1.186122e+01 -12.068259 -11.722539  -65.774015\n",
      "4    1.255565e+01 -12.513421 -12.178658  -66.284551\n",
      "..            ...        ...        ...         ...\n",
      "251  1.592907e+07  20.196660  19.957420 -109.860830\n",
      "252  1.686166e+07  20.156783  19.961980  157.754912\n",
      "253  1.784885e+07  20.112163  19.966053   59.792971\n",
      "254  1.889383e+07  20.067532  19.969692  -44.111019\n",
      "255  2.000000e+07  20.008914  19.972941 -154.387917\n",
      "\n",
      "[256 rows x 4 columns]\n"
     ]
    }
   ],
   "source": [
    "(model_mag ,model_phase, omega) =  model_TF.freqresp(omega = df['frequency'])\n",
    "model_mag_dB = 20*np.log10(model_mag)\n",
    "df.insert(2,\"model mag\",model_mag_dB)\n",
    "print(df)"
   ]
  },
  {
   "cell_type": "code",
   "execution_count": 55,
   "metadata": {},
   "outputs": [
    {
     "data": {
      "image/png": "[encoded data removed]",
      "text/plain": [
       "<Figure size 640x480 with 1 Axes>"
      ]
     },
     "metadata": {},
     "output_type": "display_data"
    }
   ],
   "source": [
    "plt.semilogx(df['frequency'],df['magnitude'])\n",
    "plt.semilogx(df['frequency'],df['model mag'])\n",
    "plt.legend(['measured','model'])\n",
    "plt.xlabel('Frequency (Hz)')\n",
    "plt.ylabel('Gain (dB)')\n",
    "plt.show()"
   ]
  }
 ],
 "metadata": {
  "kernelspec": {
   "display_name": "cds",
   "language": "python",
   "name": "python3"
  },
  "language_info": {
   "codemirror_mode": {
    "name": "ipython",
    "version": 3
   },
   "file_extension": ".py",
   "mimetype": "text/x-python",
   "name": "python",
   "nbconvert_exporter": "python",
   "pygments_lexer": "ipython3",
   "version": "3.1.0"
  }
 },
 "nbformat": 4,
 "nbformat_minor": 2
}
