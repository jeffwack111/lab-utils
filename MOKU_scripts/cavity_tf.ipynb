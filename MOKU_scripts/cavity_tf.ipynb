{
 "cells": [
  {
   "cell_type": "code",
   "execution_count": 1,
   "metadata": {},
   "outputs": [],
   "source": [
    "from moku.instruments import MultiInstrument, LaserLockBox, DigitalFilterBox, FrequencyResponseAnalyzer, SpectrumAnalyzer\n",
    "MIM = MultiInstrument('192.168.50.63', force_connect=True, platform_id=4) #192.168.50.63 is the IP address for Moku pro 4"
   ]
  },
  {
   "cell_type": "markdown",
   "metadata": {},
   "source": [
    "# Set up multinstrument mode skeleton"
   ]
  },
  {
   "cell_type": "code",
   "execution_count": 2,
   "metadata": {},
   "outputs": [],
   "source": [
    "llb = MIM.set_instrument(1, LaserLockBox)\n",
    "fra = MIM.set_instrument(2, FrequencyResponseAnalyzer)\n",
    "dfb = MIM.set_instrument(3, DigitalFilterBox)\n",
    "spa = MIM.set_instrument(4, SpectrumAnalyzer)"
   ]
  },
  {
   "cell_type": "code",
   "execution_count": 3,
   "metadata": {},
   "outputs": [
    {
     "data": {
      "text/plain": [
       "[{'destination': 'Slot1InA', 'source': 'Input1'},\n",
       " {'destination': 'Slot1InB', 'source': 'Input2'},\n",
       " {'destination': 'Slot2InA', 'source': 'Slot3OutA'},\n",
       " {'destination': 'Slot2InB', 'source': 'Slot1OutA'},\n",
       " {'destination': 'Slot3InA', 'source': 'Slot1OutA'},\n",
       " {'destination': 'Slot3InB', 'source': 'Slot2OutA'},\n",
       " {'destination': 'Slot4InA', 'source': 'Slot3OutA'},\n",
       " {'destination': 'Slot4InB', 'source': 'Slot1OutA'},\n",
       " {'destination': 'Output1', 'source': 'Slot3OutA'},\n",
       " {'destination': 'Output3', 'source': 'Slot1OutC'}]"
      ]
     },
     "execution_count": 3,
     "metadata": {},
     "output_type": "execute_result"
    }
   ],
   "source": [
    "connections = [dict(source=\"Input1\", destination=\"Slot1InA\"), # REFL PD to demodulator\n",
    "               dict(source=\"Input2\", destination=\"Slot1InB\"), # TRANS PD to monitor\n",
    "               dict(source=\"Slot1OutA\", destination=\"Slot3InA\"), # PID output to digital filter box\n",
    "               dict(source=\"Slot1OutA\", destination=\"Slot4InA\"), \n",
    "               dict(source=\"Slot1OutA\", destination=\"Slot2InB\"),\n",
    "               dict(source=\"Slot1OutC\",destination=\"Output3\"), # modulation to EOM\n",
    "               dict(source=\"Slot2OutA\", destination=\"Slot3InB\"),\n",
    "               dict(source=\"Slot3OutA\", destination=\"Slot2InA\"),\n",
    "               dict(source=\"Slot3OutA\", destination=\"Output1\"), # control signal plus excitation goes to actuator\n",
    "               dict(source=\"Slot3OutA\",destination = \"Slot4InA\"),\n",
    "               dict(source=\"Slot1OutA\",destination = \"Slot4InB\")\n",
    "               ]\n",
    "\n",
    "MIM.set_connections(connections=connections)"
   ]
  },
  {
   "cell_type": "code",
   "execution_count": 4,
   "metadata": {},
   "outputs": [
    {
     "data": {
      "text/plain": [
       "{'attenuation': '0dB', 'coupling': 'DC', 'impedance': '1MOhm'}"
      ]
     },
     "execution_count": 4,
     "metadata": {},
     "output_type": "execute_result"
    }
   ],
   "source": [
    "MIM.set_output(1, \"0dB\")\n",
    "#MIM.set_output(2, \"0dB\") #to piezo\n",
    "MIM.set_output(3, \"14dB\") #to EOM\n",
    "MIM.set_frontend(1,\"50Ohm\",\"AC\",\"0dB\")\n",
    "MIM.set_frontend(2,\"1MOhm\",\"DC\",\"0dB\")"
   ]
  },
  {
   "cell_type": "markdown",
   "metadata": {},
   "source": [
    "# Set digital filter box to sum the excitation and control signal then apply an all-pass filter"
   ]
  },
  {
   "cell_type": "code",
   "execution_count": 5,
   "metadata": {},
   "outputs": [
    {
     "data": {
      "text/plain": [
       "{'output': True, 'signal': True}"
      ]
     },
     "execution_count": 5,
     "metadata": {},
     "output_type": "execute_result"
    }
   ],
   "source": [
    "dfb.set_control_matrix(1, input_gain1=1, input_gain2=1)\n",
    "dfb.set_control_matrix(2, input_gain1=0, input_gain2=0)\n",
    "\n",
    "filter_coefficients = [\n",
    "    [1.0000000000, 1.0000000000, 0.0000000000, 0.0000000000, 0.0000000000, 0.0000000000],\n",
    "    [1.0000000000, 1.0000000000, 0.0000000000, 0.0000000000, 0.0000000000, 0.0000000000],\n",
    "    [1.0000000000, 1.0000000000, 0.0000000000, 0.0000000000, 0.0000000000, 0.0000000000],\n",
    "    [1.0000000000, 1.0000000000, 0.0000000000, 0.0000000000, 0.0000000000, 0.0000000000]]\n",
    "\n",
    "dfb.set_custom_filter(1, \"39.06MHz\", coefficients=filter_coefficients) \n",
    "\n",
    "dfb.set_input_gain(1,gain = 0)\n",
    "dfb.set_output_gain(1,gain = 0)\n",
    "\n",
    "dfb.enable_output(1,True,True)"
   ]
  },
  {
   "cell_type": "markdown",
   "metadata": {},
   "source": [
    "# Configure the laser lock box"
   ]
  },
  {
   "cell_type": "code",
   "execution_count": 6,
   "metadata": {},
   "outputs": [
    {
     "ename": "TypeError",
     "evalue": "LaserLockBox.set_aux_oscillator() got an unexpected keyword argument 'source'",
     "output_type": "error",
     "traceback": [
      "\u001b[0;31m---------------------------------------------------------------------------\u001b[0m",
      "\u001b[0;31mTypeError\u001b[0m                                 Traceback (most recent call last)",
      "Cell \u001b[0;32mIn[6], line 1\u001b[0m\n\u001b[0;32m----> 1\u001b[0m \u001b[43mllb\u001b[49m\u001b[38;5;241;43m.\u001b[39;49m\u001b[43mset_aux_oscillator\u001b[49m\u001b[43m(\u001b[49m\u001b[43msource\u001b[49m\u001b[43m \u001b[49m\u001b[38;5;241;43m=\u001b[39;49m\u001b[43m \u001b[49m\u001b[38;5;124;43m\"\u001b[39;49m\u001b[38;5;124;43mOutputC\u001b[39;49m\u001b[38;5;124;43m\"\u001b[39;49m\u001b[43m)\u001b[49m\n\u001b[1;32m      2\u001b[0m llb\u001b[38;5;241m.\u001b[39mset_demodulation(mode\u001b[38;5;241m=\u001b[39m\u001b[38;5;124m\"\u001b[39m\u001b[38;5;124mModulation\u001b[39m\u001b[38;5;124m\"\u001b[39m,frequency\u001b[38;5;241m=\u001b[39m\u001b[38;5;241m50e6\u001b[39m,phase\u001b[38;5;241m=\u001b[39m\u001b[38;5;241m260\u001b[39m)\n\u001b[1;32m      3\u001b[0m llb\u001b[38;5;241m.\u001b[39mset_output_limit(channel\u001b[38;5;241m=\u001b[39m\u001b[38;5;241m1\u001b[39m, low_limit\u001b[38;5;241m=\u001b[39m\u001b[38;5;241m-\u001b[39m\u001b[38;5;241m1\u001b[39m, high_limit\u001b[38;5;241m=\u001b[39m\u001b[38;5;241m1\u001b[39m)\n",
      "\u001b[0;31mTypeError\u001b[0m: LaserLockBox.set_aux_oscillator() got an unexpected keyword argument 'source'"
     ]
    }
   ],
   "source": [
    "llb.set_aux_oscillator(source = \"OutputC\")\n",
    "llb.set_demodulation(mode=\"Modulation\",frequency=50e6,phase=260)\n",
    "llb.set_output_limit(channel=1, low_limit=-1, high_limit=1)\n",
    "llb.set_pid_by_frequency(channel=1,  int_crossover = 18e3, int_saturation = 40.0,prop_gain = 0)\n",
    "print(llb.summary())"
   ]
  },
  {
   "cell_type": "code",
   "execution_count": null,
   "metadata": {},
   "outputs": [],
   "source": [
    "MIM.relinquish_ownership()"
   ]
  }
 ],
 "metadata": {
  "kernelspec": {
   "display_name": "cds",
   "language": "python",
   "name": "python3"
  },
  "language_info": {
   "codemirror_mode": {
    "name": "ipython",
    "version": 3
   },
   "file_extension": ".py",
   "mimetype": "text/x-python",
   "name": "python",
   "nbconvert_exporter": "python",
   "pygments_lexer": "ipython3",
   "version": "3.10.13"
  }
 },
 "nbformat": 4,
 "nbformat_minor": 2
}
