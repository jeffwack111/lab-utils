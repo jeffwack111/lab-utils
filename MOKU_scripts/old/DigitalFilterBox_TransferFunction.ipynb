{
 "cells": [
  {
   "cell_type": "code",
   "execution_count": null,
   "metadata": {},
   "outputs": [],
   "source": [
    "from moku.instruments import MultiInstrument, DigitalFilterBox, FrequencyResponseAnalyzer\n",
    "import control as ct\n",
    "import altair as alt\n",
    "import pandas as pd\n",
    "import numpy as np"
   ]
  },
  {
   "cell_type": "markdown",
   "metadata": {},
   "source": [
    "## The following function takes a continuous time transfer function in zpk form and returns coefficents for a Moku IIR filter"
   ]
  },
  {
   "cell_type": "code",
   "execution_count": null,
   "metadata": {},
   "outputs": [],
   "source": [
    "from scipy.signal import bilinear_zpk, zpk2sos\n",
    "\n",
    "def zpk2mokuIIR(az,ap,ak,fs = 39.063e6):\n",
    "    samplerates = [305.28e3, 4.8828e6, 39.063e6]\n",
    "    if samplerates.count(fs) == 0:\n",
    "        raise Exception(\"{} is not a valid sample rate for a Moku Pro IIR filter\".format(fs))\n",
    "\n",
    "    dz,dp,dk = bilinear_zpk(az,ap,ak,fs)\n",
    "\n",
    "    sos = zpk2sos(dz,dp,dk)\n",
    "\n",
    "    if len(sos) > 4:\n",
    "        raise Exception(\"{} second-order stages is more than the Moku's maximum of 4\".format(len(sos)))\n",
    "\n",
    "    mokusos = []\n",
    "\n",
    "    for section in sos:\n",
    "        mokusos.append([1/section[3],section[0],section[1],section[2],section[4]/section[3],section[5]/section[3]])\n",
    "\n",
    "    return mokusos\n"
   ]
  },
  {
   "cell_type": "code",
   "execution_count": null,
   "metadata": {},
   "outputs": [],
   "source": [
    "sample_freq = 39.06e6"
   ]
  },
  {
   "cell_type": "code",
   "execution_count": null,
   "metadata": {},
   "outputs": [],
   "source": [
    "#See the moku user manual for \n",
    "def second_order_section(s,b0,b1,b2,a1,a2):\n",
    "    return ct.tf([s*b0,s*b1,s*b2],[1,a1,a2],1/(sample_freq))"
   ]
  },
  {
   "cell_type": "markdown",
   "metadata": {},
   "source": [
    "## Here is the transfer function used for the rest of the script"
   ]
  },
  {
   "cell_type": "code",
   "execution_count": null,
   "metadata": {},
   "outputs": [],
   "source": [
    "z = [-500,-35000,-50000+40j , -50000-40j]\n",
    "p = [-1000,-12000,-80000+40j , -80000-40j]\n",
    "k = 1\n",
    "\n",
    "ctimemodel = ct.zpk(z,p,k)"
   ]
  },
  {
   "cell_type": "markdown",
   "metadata": {},
   "source": [
    "## Create the discrete time model"
   ]
  },
  {
   "cell_type": "code",
   "execution_count": null,
   "metadata": {},
   "outputs": [],
   "source": [
    "filter_coefficients = zpk2mokuIIR(z,p,k)\n",
    "\n",
    "dtimemodel = ct.tf([1],[1],1/(sample_freq))\n",
    "\n",
    "for coeff in filter_coefficients:\n",
    "    stage = second_order_section(*coeff)\n",
    "    dtimemodel = ct.series(dtimemodel,stage)"
   ]
  },
  {
   "cell_type": "markdown",
   "metadata": {},
   "source": [
    "## Configure the Moku to set and measure an IIR filter"
   ]
  },
  {
   "cell_type": "code",
   "execution_count": null,
   "metadata": {},
   "outputs": [],
   "source": [
    "\n",
    "MIM = MultiInstrument('192.168.50.97', force_connect=True, platform_id=4) #192.168.50.97 is the IP for Moku Pro 1\n",
    "\n",
    "dfb = MIM.set_instrument(1, DigitalFilterBox)\n",
    "fra = MIM.set_instrument(2, FrequencyResponseAnalyzer)\n",
    "\n",
    "connections = [dict(source=\"Slot1OutA\", destination=\"Slot2InA\"),\n",
    "               dict(source=\"Slot2OutA\", destination=\"Slot1InA\")]\n",
    "\n",
    "MIM.set_connections(connections=connections)"
   ]
  },
  {
   "cell_type": "code",
   "execution_count": null,
   "metadata": {},
   "outputs": [],
   "source": [
    "# Configure IIR filter 1 of the DFB\n",
    "\n",
    "dfb.set_custom_filter(1, \"39.06MHz\", coefficients=filter_coefficients) #note that this should match sample_freq\n",
    "\n",
    "dfb.set_input_gain(1,gain = 0)\n",
    "dfb.set_output_gain(1,gain = 0)\n",
    "\n",
    "dfb.enable_output(1,True,True)"
   ]
  },
  {
   "cell_type": "code",
   "execution_count": null,
   "metadata": {},
   "outputs": [],
   "source": [
    "#configure the frequency sweep\n",
    "fra.set_sweep(start_frequency=10, stop_frequency=20e6, num_points=256,\n",
    "                averaging_time=1e-3, averaging_cycles=1, settling_cycles=1,\n",
    "                settling_time=1e-3)\n",
    "fra.set_output(1, 0.01)"
   ]
  },
  {
   "cell_type": "code",
   "execution_count": null,
   "metadata": {},
   "outputs": [],
   "source": [
    "delay = fra.start_sweep() \n",
    "print(delay)\n",
    "data = fra.get_data(wait_complete = True)"
   ]
  },
  {
   "cell_type": "code",
   "execution_count": null,
   "metadata": {},
   "outputs": [],
   "source": [
    "MIM.relinquish_ownership()"
   ]
  },
  {
   "cell_type": "code",
   "execution_count": null,
   "metadata": {},
   "outputs": [],
   "source": [
    "df_measured = pd.DataFrame(data = data['ch1'])\n",
    "\n",
    "df_measured['label'] = 'measured'\n",
    "\n",
    "df_measured['magnitude'] = 10**(df_measured['magnitude']/20) #convert to magnitude"
   ]
  },
  {
   "cell_type": "code",
   "execution_count": null,
   "metadata": {},
   "outputs": [],
   "source": [
    "omega = df_measured['frequency'].to_numpy()*2*np.pi #convert the sample frequencies to rad/sec"
   ]
  },
  {
   "cell_type": "code",
   "execution_count": null,
   "metadata": {},
   "outputs": [],
   "source": [
    "mag,phase,omega = ct.bode_plot(dtimemodel,omega=omega)\n",
    "df_dmodel = pd.DataFrame().reindex(columns=df_measured.columns) #create another dataframe with the same columns\n",
    "df_dmodel['frequency'] = df_measured['frequency']\n",
    "df_dmodel['magnitude'] = mag\n",
    "df_dmodel['phase'] = (360*phase/(2*np.pi)+180)%360 -180 #convert to degrees and wrap phase\n",
    "df_dmodel['label'] = 'discrete time model'"
   ]
  },
  {
   "cell_type": "code",
   "execution_count": null,
   "metadata": {},
   "outputs": [],
   "source": [
    "mag,phase,omega = ct.bode_plot(ctimemodel,omega=omega)\n",
    "df_cmodel = pd.DataFrame().reindex(columns=df_measured.columns) #create another dataframe with the same columns\n",
    "df_cmodel['frequency'] = df_measured['frequency']\n",
    "df_cmodel['magnitude'] = mag\n",
    "df_cmodel['phase'] = (360*phase/(2*np.pi)+180)%360 -180 #convert to degrees and wrap phase\n",
    "df_cmodel['label'] = 'continuous time model'"
   ]
  },
  {
   "cell_type": "code",
   "execution_count": null,
   "metadata": {},
   "outputs": [],
   "source": [
    "df = pd.concat([df_dmodel,df_cmodel,df_measured])"
   ]
  },
  {
   "cell_type": "code",
   "execution_count": null,
   "metadata": {},
   "outputs": [],
   "source": [
    "magnitudechart = alt.Chart(df).mark_line(clip=True).encode(\n",
    "    x=alt.X('frequency:Q').scale(type=\"log\"),\n",
    "    y=alt.Y('magnitude:Q').scale(type=\"log\",domain=(0.5,1.1)),\n",
    "    color='label:N',\n",
    ").properties(\n",
    "    width=400,\n",
    "    height=200\n",
    ")\n",
    "\n",
    "phasechart = alt.Chart(df).mark_line().encode(\n",
    "    x=alt.X('frequency:Q').scale(type=\"log\"),\n",
    "    y=alt.Y('phase:Q'),\n",
    "    color='label:N',\n",
    ").properties(\n",
    "    width=400,\n",
    "    height=100\n",
    ")\n",
    "\n",
    "alt.vconcat(magnitudechart,phasechart)#.transform_filter(alt.FieldRangePredicate(field='freq', range=[8e6, 1e8]))"
   ]
  },
  {
   "cell_type": "code",
   "execution_count": null,
   "metadata": {},
   "outputs": [],
   "source": [
    "data = df.loc[df['label'] == 'measured']\n",
    "freq_diff = data['frequency'].diff()*2*np.pi #in rad/s\n",
    "phase_diff = data['phase'].diff()*2*np.pi/360 #in radians\n",
    "delay = pd.DataFrame(phase_diff/freq_diff,columns=['delay'])\n",
    "data = pd.concat([data,delay],axis=1)\n",
    "data\n"
   ]
  },
  {
   "cell_type": "code",
   "execution_count": null,
   "metadata": {},
   "outputs": [],
   "source": [
    "delaychart = alt.Chart(data).mark_line().encode(\n",
    "    x=alt.X('frequency:Q').scale(type=\"log\"),\n",
    "    y=alt.Y('delay:Q'),\n",
    "    color='label:N',\n",
    ").properties(\n",
    "    width=400,\n",
    "    height=200\n",
    ")\n",
    "delaychart"
   ]
  },
  {
   "cell_type": "code",
   "execution_count": null,
   "metadata": {},
   "outputs": [],
   "source": [
    "data['delay'].median()*1e9 #in nanoseconds"
   ]
  }
 ],
 "metadata": {
  "kernelspec": {
   "display_name": "cds",
   "language": "python",
   "name": "python3"
  },
  "language_info": {
   "codemirror_mode": {
    "name": "ipython",
    "version": 3
   },
   "file_extension": ".py",
   "mimetype": "text/x-python",
   "name": "python",
   "nbconvert_exporter": "python",
   "pygments_lexer": "ipython3",
   "version": "3.12.2"
  }
 },
 "nbformat": 4,
 "nbformat_minor": 2
}
